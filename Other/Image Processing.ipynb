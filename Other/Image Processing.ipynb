{
 "cells": [
  {
   "cell_type": "code",
   "execution_count": null,
   "id": "01e4655b",
   "metadata": {},
   "outputs": [],
   "source": [
    "pip install opencv-python"
   ]
  },
  {
   "cell_type": "code",
   "execution_count": 1,
   "id": "39cd9b15",
   "metadata": {},
   "outputs": [],
   "source": [
    "import cv2"
   ]
  },
  {
   "cell_type": "markdown",
   "id": "5fd379b2",
   "metadata": {},
   "source": [
    "# Image Reading"
   ]
  },
  {
   "cell_type": "code",
   "execution_count": 2,
   "id": "fd5ccc34",
   "metadata": {},
   "outputs": [],
   "source": [
    "img=cv2.imread(\"sample.jpg\")"
   ]
  },
  {
   "cell_type": "code",
   "execution_count": null,
   "id": "d4ff29ff",
   "metadata": {},
   "outputs": [],
   "source": [
    "img"
   ]
  },
  {
   "cell_type": "code",
   "execution_count": 5,
   "id": "98f391c4",
   "metadata": {},
   "outputs": [],
   "source": [
    "grey=cv2.imread(\"download.jpg\",0)"
   ]
  },
  {
   "cell_type": "code",
   "execution_count": null,
   "id": "9c9c001f",
   "metadata": {},
   "outputs": [],
   "source": [
    "grey"
   ]
  },
  {
   "cell_type": "code",
   "execution_count": null,
   "id": "a77fb323",
   "metadata": {},
   "outputs": [],
   "source": [
    "cv2.imshow(\"colour image\",img)\n",
    "cv2.imshow(\"greyscale image\",grey)\n",
    "cv2.waitKey(0)\n",
    "cv2.destroyAllWindows()"
   ]
  },
  {
   "cell_type": "markdown",
   "id": "ee26411d",
   "metadata": {},
   "source": [
    "## Image Writing"
   ]
  },
  {
   "cell_type": "code",
   "execution_count": null,
   "id": "7590b28e",
   "metadata": {},
   "outputs": [],
   "source": [
    "cv2.imwrite('location',img)"
   ]
  },
  {
   "cell_type": "code",
   "execution_count": 4,
   "id": "0b95f0c9",
   "metadata": {},
   "outputs": [],
   "source": [
    "import numpy as nump"
   ]
  },
  {
   "cell_type": "markdown",
   "id": "f8d7139f",
   "metadata": {},
   "source": [
    "# Image shape"
   ]
  },
  {
   "cell_type": "code",
   "execution_count": 5,
   "id": "b45898c6",
   "metadata": {},
   "outputs": [],
   "source": [
    "shape=img.shape"
   ]
  },
  {
   "cell_type": "code",
   "execution_count": null,
   "id": "39b1b04f",
   "metadata": {},
   "outputs": [],
   "source": [
    "print(shape)"
   ]
  },
  {
   "cell_type": "markdown",
   "id": "dcf1b59f",
   "metadata": {},
   "source": [
    "# Image size"
   ]
  },
  {
   "cell_type": "code",
   "execution_count": 7,
   "id": "a4403738",
   "metadata": {},
   "outputs": [],
   "source": [
    "size=img.size"
   ]
  },
  {
   "cell_type": "code",
   "execution_count": null,
   "id": "c9f94d60",
   "metadata": {},
   "outputs": [],
   "source": [
    "print(size)"
   ]
  },
  {
   "cell_type": "markdown",
   "id": "fd917fb5",
   "metadata": {},
   "source": [
    "# Value of pixel"
   ]
  },
  {
   "cell_type": "code",
   "execution_count": 9,
   "id": "c5606173",
   "metadata": {},
   "outputs": [],
   "source": [
    "pixel=img[123,299]"
   ]
  },
  {
   "cell_type": "code",
   "execution_count": null,
   "id": "4a91ee1f",
   "metadata": {},
   "outputs": [],
   "source": [
    "print(pixel)"
   ]
  },
  {
   "cell_type": "markdown",
   "id": "0379b9e6",
   "metadata": {},
   "source": [
    "# Colour Splitting"
   ]
  },
  {
   "cell_type": "code",
   "execution_count": null,
   "id": "815d5b3d",
   "metadata": {},
   "outputs": [],
   "source": [
    "b,g,r=cv2.split(img)\n",
    "cv2.imshow(\"b\",b)\n",
    "cv2.waitKey(0)\n",
    "cv2.imshow(\"g\",g)\n",
    "cv2.waitKey(0)\n",
    "cv2.imshow(\"r\",r)\n",
    "cv2.waitKey(0)"
   ]
  },
  {
   "cell_type": "code",
   "execution_count": null,
   "id": "1b326a23",
   "metadata": {},
   "outputs": [],
   "source": [
    "print(b,g,r)"
   ]
  }
 ],
 "metadata": {
  "kernelspec": {
   "display_name": "Python 3 (ipykernel)",
   "language": "python",
   "name": "python3"
  },
  "language_info": {
   "codemirror_mode": {
    "name": "ipython",
    "version": 3
   },
   "file_extension": ".py",
   "mimetype": "text/x-python",
   "name": "python",
   "nbconvert_exporter": "python",
   "pygments_lexer": "ipython3",
   "version": "3.9.16"
  }
 },
 "nbformat": 4,
 "nbformat_minor": 5
}
