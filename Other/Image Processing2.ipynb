{
 "cells": [
  {
   "cell_type": "markdown",
   "id": "0cab860c",
   "metadata": {},
   "source": [
    "# Image  Resize"
   ]
  },
  {
   "cell_type": "code",
   "execution_count": 1,
   "id": "08afece0",
   "metadata": {},
   "outputs": [],
   "source": [
    "import cv2\n",
    "import numpy as np"
   ]
  },
  {
   "cell_type": "code",
   "execution_count": 2,
   "id": "d381f8cd",
   "metadata": {},
   "outputs": [],
   "source": [
    "img=cv2.imread('sample.jpg')"
   ]
  },
  {
   "cell_type": "code",
   "execution_count": null,
   "id": "7ce86dec",
   "metadata": {},
   "outputs": [],
   "source": [
    "print(img.shape)"
   ]
  },
  {
   "cell_type": "code",
   "execution_count": 4,
   "id": "ec202583",
   "metadata": {},
   "outputs": [],
   "source": [
    "img_res=cv2.resize(img,None,fx=2,fy=2,interpolation=cv2.INTER_LINEAR)"
   ]
  },
  {
   "cell_type": "code",
   "execution_count": null,
   "id": "48028441",
   "metadata": {},
   "outputs": [],
   "source": [
    "cv2.imshow(\"resolution\",img_res)\n",
    "cv2.waitKey(0)"
   ]
  },
  {
   "cell_type": "markdown",
   "id": "9bf7db2e",
   "metadata": {},
   "source": [
    "# Another resolution method"
   ]
  },
  {
   "cell_type": "code",
   "execution_count": 6,
   "id": "f7e27cf8",
   "metadata": {},
   "outputs": [],
   "source": [
    "img_res2=cv2.resize(img,(750,500))"
   ]
  },
  {
   "cell_type": "code",
   "execution_count": null,
   "id": "31abf8bc",
   "metadata": {},
   "outputs": [],
   "source": [
    "cv2.imshow(\"resolution\",img_res2)\n",
    "cv2.waitKey(0)"
   ]
  },
  {
   "cell_type": "markdown",
   "id": "89093862",
   "metadata": {},
   "source": [
    "# Image Smoothening"
   ]
  },
  {
   "cell_type": "code",
   "execution_count": 8,
   "id": "c8afabb5",
   "metadata": {},
   "outputs": [],
   "source": [
    "img_res2=cv2.resize(img,(750,500))"
   ]
  },
  {
   "cell_type": "code",
   "execution_count": 9,
   "id": "33cee537",
   "metadata": {},
   "outputs": [],
   "source": [
    "kernel=np.ones((4,4),float)/16"
   ]
  },
  {
   "cell_type": "code",
   "execution_count": 10,
   "id": "f3ec18a5",
   "metadata": {},
   "outputs": [],
   "source": [
    "tdf=cv2.filter2D(img_res2,-2,kernel)"
   ]
  },
  {
   "cell_type": "code",
   "execution_count": null,
   "id": "e8cc69b6",
   "metadata": {},
   "outputs": [],
   "source": [
    "cv2.imshow(\"resolution\",img_res2)\n",
    "cv2.waitKey(0)\n",
    "cv2.imshow(\"2D filter\",tdf)\n",
    "cv2.waitKey(0)"
   ]
  },
  {
   "cell_type": "markdown",
   "id": "7b168c43",
   "metadata": {},
   "source": [
    "# Image Blur-Average"
   ]
  },
  {
   "cell_type": "code",
   "execution_count": 12,
   "id": "d0d01113",
   "metadata": {},
   "outputs": [],
   "source": [
    "avg=cv2.blur(img_res2,(6,6))"
   ]
  },
  {
   "cell_type": "code",
   "execution_count": null,
   "id": "4a260340",
   "metadata": {},
   "outputs": [],
   "source": [
    "cv2.imshow(\"2D filter\",avg)\n",
    "cv2.waitKey(0)"
   ]
  }
 ],
 "metadata": {
  "kernelspec": {
   "display_name": "Python 3 (ipykernel)",
   "language": "python",
   "name": "python3"
  },
  "language_info": {
   "codemirror_mode": {
    "name": "ipython",
    "version": 3
   },
   "file_extension": ".py",
   "mimetype": "text/x-python",
   "name": "python",
   "nbconvert_exporter": "python",
   "pygments_lexer": "ipython3",
   "version": "3.9.16"
  }
 },
 "nbformat": 4,
 "nbformat_minor": 5
}
