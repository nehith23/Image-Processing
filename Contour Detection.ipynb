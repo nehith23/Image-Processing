{
 "cells": [
  {
   "cell_type": "code",
   "execution_count": 1,
   "id": "7f7a49a2",
   "metadata": {},
   "outputs": [],
   "source": [
    "import cv2\n",
    "import matplotlib.pyplot as plt"
   ]
  },
  {
   "cell_type": "code",
   "execution_count": 2,
   "id": "6b47f1b5",
   "metadata": {},
   "outputs": [],
   "source": [
    "image = cv2.imread(\"sample.jpg\")"
   ]
  },
  {
   "cell_type": "code",
   "execution_count": null,
   "id": "0fe96cf0",
   "metadata": {},
   "outputs": [],
   "source": [
    "# convert to RGB\n",
    "image = cv2.cvtColor(image, cv2.COLOR_BGR2RGB)\n",
    "# convert to grayscale\n",
    "gray = cv2.cvtColor(image, cv2.COLOR_RGB2GRAY)\n",
    "plt.imshow(gray)\n",
    "plt.show()\n",
    "cv2.imshow('grey',gray)\n",
    "cv2.waitKey(0)"
   ]
  },
  {
   "cell_type": "code",
   "execution_count": 8,
   "id": "79422a61",
   "metadata": {},
   "outputs": [],
   "source": [
    "# create a binary thresholded image\n",
    "ret,binary = cv2.threshold(gray,80,110, cv2.THRESH_BINARY_INV)"
   ]
  },
  {
   "cell_type": "code",
   "execution_count": null,
   "id": "576185be",
   "metadata": {},
   "outputs": [],
   "source": [
    "plt.imshow(binary, cmap=\"gray\")\n",
    "plt.show()"
   ]
  },
  {
   "cell_type": "code",
   "execution_count": 10,
   "id": "a20caa26",
   "metadata": {},
   "outputs": [],
   "source": [
    "# find the contours from the thresholded image\n",
    "contours, hierarchy = cv2.findContours(binary, cv2.RETR_TREE, cv2.CHAIN_APPROX_SIMPLE)"
   ]
  },
  {
   "cell_type": "code",
   "execution_count": null,
   "id": "fb594e63",
   "metadata": {},
   "outputs": [],
   "source": [
    "# draw all contours\n",
    "image = cv2.drawContours(image, contours, -1, (0,110 , 255), 3)\n",
    "\n",
    "# show the image with the drawn contours\n",
    "plt.imshow(image)\n",
    "plt.show()"
   ]
  }
 ],
 "metadata": {
  "kernelspec": {
   "display_name": "Python 3 (ipykernel)",
   "language": "python",
   "name": "python3"
  },
  "language_info": {
   "codemirror_mode": {
    "name": "ipython",
    "version": 3
   },
   "file_extension": ".py",
   "mimetype": "text/x-python",
   "name": "python",
   "nbconvert_exporter": "python",
   "pygments_lexer": "ipython3",
   "version": "3.9.16"
  }
 },
 "nbformat": 4,
 "nbformat_minor": 5
}
