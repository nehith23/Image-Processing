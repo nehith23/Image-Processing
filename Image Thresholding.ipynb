{
 "cells": [
  {
   "cell_type": "markdown",
   "id": "84f5a16f",
   "metadata": {},
   "source": [
    "# Image Thresholding"
   ]
  },
  {
   "cell_type": "markdown",
   "id": "5d918d2c",
   "metadata": {},
   "source": [
    "## Simple Thresholding"
   ]
  },
  {
   "cell_type": "code",
   "execution_count": 14,
   "id": "0c5fceee",
   "metadata": {},
   "outputs": [],
   "source": [
    "import cv2"
   ]
  },
  {
   "cell_type": "code",
   "execution_count": 15,
   "id": "cdb4a3b2",
   "metadata": {},
   "outputs": [],
   "source": [
    "img=cv2.imread(\"image.jpg\")"
   ]
  },
  {
   "cell_type": "code",
   "execution_count": null,
   "id": "479c1bca",
   "metadata": {},
   "outputs": [],
   "source": [
    "cv2.imshow(\"image\",img)\n",
    "cv2.waitKey(0)"
   ]
  },
  {
   "cell_type": "code",
   "execution_count": 17,
   "id": "17b21068",
   "metadata": {},
   "outputs": [],
   "source": [
    "grey=cv2.imread(\"image.jpg\",0)"
   ]
  },
  {
   "cell_type": "code",
   "execution_count": null,
   "id": "cccb1117",
   "metadata": {},
   "outputs": [],
   "source": [
    "cv2.imshow(\"image\",grey)\n",
    "cv2.waitKey(0)"
   ]
  },
  {
   "cell_type": "code",
   "execution_count": 6,
   "id": "9ff888eb",
   "metadata": {},
   "outputs": [],
   "source": [
    "ret,thresh1=cv2.threshold(grey,15,150,cv2.THRESH_BINARY)\n",
    "ret,thresh2=cv2.threshold(grey,15,255,cv2.THRESH_BINARY_INV)\n",
    "ret,thresh3=cv2.threshold(grey,15,255,cv2.THRESH_TRUNC)\n",
    "ret,thresh4=cv2.threshold(grey,15,255,cv2.THRESH_TOZERO)\n",
    "ret,thresh5=cv2.threshold(grey,15,255,cv2.THRESH_TOZERO_INV)"
   ]
  },
  {
   "cell_type": "code",
   "execution_count": null,
   "id": "dc56ab28",
   "metadata": {},
   "outputs": [],
   "source": [
    "cv2.imshow(\"image1\",thresh1)\n",
    "cv2.imshow(\"image2\",thresh2)\n",
    "cv2.imshow(\"image3\",thresh3)\n",
    "cv2.imshow(\"image4\",thresh4)\n",
    "cv2.imshow(\"image5\",thresh5)\n",
    "\n",
    "cv2.waitKey(0)"
   ]
  },
  {
   "cell_type": "markdown",
   "id": "4ebb88d7",
   "metadata": {},
   "source": [
    "## Adaptive Thresholding"
   ]
  },
  {
   "cell_type": "code",
   "execution_count": 8,
   "id": "9043de04",
   "metadata": {},
   "outputs": [],
   "source": [
    "grey=cv2.imread(\"image.jpg\",0)"
   ]
  },
  {
   "cell_type": "code",
   "execution_count": null,
   "id": "67226dd5",
   "metadata": {},
   "outputs": [],
   "source": [
    "cv2.imshow(\"image2\",grey)\n",
    "cv2.waitKey(0)"
   ]
  },
  {
   "cell_type": "code",
   "execution_count": 40,
   "id": "a2205406",
   "metadata": {},
   "outputs": [],
   "source": [
    "ret,th1=cv2.threshold(grey,50,255,cv2.THRESH_BINARY)\n",
    "ath1=cv2.adaptiveThreshold(grey,255,cv2.ADAPTIVE_THRESH_MEAN_C,cv2.THRESH_BINARY,21,4)\n",
    "ath2=cv2.adaptiveThreshold(grey,255,cv2.ADAPTIVE_THRESH_GAUSSIAN_C,cv2.THRESH_BINARY,21,4)"
   ]
  },
  {
   "cell_type": "code",
   "execution_count": null,
   "id": "5d96c2db",
   "metadata": {},
   "outputs": [],
   "source": [
    "cv2.imshow(\"simple\",th1)\n",
    "cv2.imshow(\"mean\",ath1)\n",
    "cv2.imshow(\"gaussian\",ath2)\n",
    "cv2.waitKey(0)"
   ]
  },
  {
   "cell_type": "code",
   "execution_count": 39,
   "id": "f9e8121c",
   "metadata": {},
   "outputs": [],
   "source": [
    "img2=cv2.imread(\"dark_book.jpg\",0)"
   ]
  },
  {
   "cell_type": "code",
   "execution_count": null,
   "id": "0a695edf",
   "metadata": {},
   "outputs": [],
   "source": [
    "cv2.imshow(\"image2\",img2)\n",
    "cv2.waitKey(0)"
   ]
  },
  {
   "cell_type": "code",
   "execution_count": 50,
   "id": "62c15326",
   "metadata": {},
   "outputs": [],
   "source": [
    "ret,th2=cv2.threshold(img2,50,255,cv2.THRESH_BINARY)\n",
    "ath3=cv2.adaptiveThreshold(img2,255,cv2.ADAPTIVE_THRESH_MEAN_C,cv2.THRESH_BINARY,27,1)\n",
    "ath4=cv2.adaptiveThreshold(img2,255,cv2.ADAPTIVE_THRESH_GAUSSIAN_C,cv2.THRESH_BINARY,27,1)"
   ]
  },
  {
   "cell_type": "code",
   "execution_count": null,
   "id": "234d773b",
   "metadata": {},
   "outputs": [],
   "source": [
    "cv2.imshow(\"simple\",th2)\n",
    "cv2.imshow(\"mean\",ath3)\n",
    "cv2.imshow(\"gaussian\",ath4)\n",
    "cv2.waitKey(0)"
   ]
  },
  {
   "cell_type": "code",
   "execution_count": 59,
   "id": "48e0f5bd",
   "metadata": {},
   "outputs": [],
   "source": [
    "ret,otsu=cv2.threshold(grey,0,255,cv2.THRESH_TOZERO+cv2.THRESH_OTSU)\n",
    "ret,otsu2=cv2.threshold(grey,0,255,cv2.THRESH_BINARY+cv2.THRESH_OTSU)"
   ]
  },
  {
   "cell_type": "code",
   "execution_count": null,
   "id": "13523be7",
   "metadata": {},
   "outputs": [],
   "source": [
    "cv2.imshow(\"otsu\",otsu)\n",
    "cv2.waitKey(0)\n",
    "cv2.imshow(\"otsu2\",otsu2)\n",
    "cv2.waitKey(0)"
   ]
  }
 ],
 "metadata": {
  "kernelspec": {
   "display_name": "Python 3 (ipykernel)",
   "language": "python",
   "name": "python3"
  },
  "language_info": {
   "codemirror_mode": {
    "name": "ipython",
    "version": 3
   },
   "file_extension": ".py",
   "mimetype": "text/x-python",
   "name": "python",
   "nbconvert_exporter": "python",
   "pygments_lexer": "ipython3",
   "version": "3.9.16"
  }
 },
 "nbformat": 4,
 "nbformat_minor": 5
}
