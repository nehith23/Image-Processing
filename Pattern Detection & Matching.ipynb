{
 "cells": [
  {
   "cell_type": "code",
   "execution_count": null,
   "id": "f6a79775",
   "metadata": {},
   "outputs": [],
   "source": [
    "pip install --user opencv-contrib-python"
   ]
  },
  {
   "cell_type": "code",
   "execution_count": 2,
   "id": "ae34290a",
   "metadata": {},
   "outputs": [],
   "source": [
    "import cv2\n",
    "import numpy as np\n",
    "import matplotlib.pyplot as py\n",
    "%matplotlib inline"
   ]
  },
  {
   "cell_type": "code",
   "execution_count": 3,
   "id": "d0f917b9",
   "metadata": {},
   "outputs": [],
   "source": [
    "img=cv2.imread(\"sample.jpg\")"
   ]
  },
  {
   "cell_type": "code",
   "execution_count": 4,
   "id": "02e8e1c9",
   "metadata": {},
   "outputs": [],
   "source": [
    "rgb=cv2.cvtColor(img,cv2.COLOR_BGR2RGB)\n",
    "grey=cv2.cvtColor(img,cv2.COLOR_RGB2GRAY)"
   ]
  },
  {
   "cell_type": "code",
   "execution_count": null,
   "id": "8b1b6c3a",
   "metadata": {
    "scrolled": true
   },
   "outputs": [],
   "source": [
    "#scale invariance\n",
    "sc_iv=cv2.pyrDown(rgb)\n",
    "sc_iv2=cv2.pyrDown(sc_iv)\n",
    "num_rows,row_cols=sc_iv2.shape[:2]\n",
    "print(sc_iv2)"
   ]
  },
  {
   "cell_type": "code",
   "execution_count": 6,
   "id": "36e3caab",
   "metadata": {},
   "outputs": [],
   "source": [
    "cv2.imshow(\"original\",img)\n",
    "cv2.imshow(\"first scale\",sc_iv)\n",
    "cv2.imshow(\"scale\",sc_iv2)\n",
    "cv2.waitKey(0)\n",
    "cv2.destroyAllWindows()"
   ]
  },
  {
   "cell_type": "code",
   "execution_count": 7,
   "id": "ae151268",
   "metadata": {},
   "outputs": [],
   "source": [
    "#rotational invariance\n",
    "rot_iv=cv2.getRotationMatrix2D((row_cols/2,num_rows/2,),180,0.5)"
   ]
  },
  {
   "cell_type": "code",
   "execution_count": 8,
   "id": "5afdbe1f",
   "metadata": {},
   "outputs": [],
   "source": [
    "#Affine transformation\n",
    "aff=cv2.warpAffine(sc_iv,rot_iv,(row_cols,num_rows))"
   ]
  },
  {
   "cell_type": "code",
   "execution_count": 9,
   "id": "0ad90e4c",
   "metadata": {},
   "outputs": [],
   "source": [
    "#Colour conversion\n",
    "rot_gray=cv2.cvtColor(aff,cv2.COLOR_RGB2GRAY)"
   ]
  },
  {
   "cell_type": "code",
   "execution_count": null,
   "id": "8d55d789",
   "metadata": {},
   "outputs": [],
   "source": [
    "fx,plots=py.subplots(1,2,figsize=(20,10))\n",
    "plots[0].set_title(\"Original Image\")\n",
    "plots[0].imshow(rgb)\n",
    "plots[1].set_title(\"Testing image\")\n",
    "plots[1].imshow(aff)"
   ]
  },
  {
   "cell_type": "code",
   "execution_count": 11,
   "id": "9162917e",
   "metadata": {},
   "outputs": [],
   "source": [
    "#SIFT\n",
    "sift=cv2.xfeatures2d.SIFT_create()"
   ]
  },
  {
   "cell_type": "code",
   "execution_count": 12,
   "id": "60af00e9",
   "metadata": {},
   "outputs": [],
   "source": [
    "#Detect and Compute\n",
    "train_kp,train_des=sift.detectAndCompute(grey,None)\n",
    "test_kp,test_des=sift.detectAndCompute(rot_gray,None)"
   ]
  },
  {
   "cell_type": "code",
   "execution_count": 13,
   "id": "43b755f4",
   "metadata": {},
   "outputs": [],
   "source": [
    "kp_wo_size=np.copy(rgb)\n",
    "kp_w_size=np.copy(rgb)"
   ]
  },
  {
   "cell_type": "code",
   "execution_count": null,
   "id": "17569af2",
   "metadata": {
    "scrolled": true
   },
   "outputs": [],
   "source": [
    "cv2.drawKeypoints(rgb,train_kp,kp_wo_size,color=(0,255,0))\n",
    "cv2.drawKeypoints(rgb,train_kp,kp_w_size,flags=cv2.DRAW_MATCHES_FLAGS_DRAW_RICH_KEYPOINTS)"
   ]
  },
  {
   "cell_type": "code",
   "execution_count": null,
   "id": "e9f35248",
   "metadata": {},
   "outputs": [],
   "source": [
    "fx,plots=py.subplots(1,2,figsize=(20,10))\n",
    "plots[0].set_title(\"train with size \")\n",
    "plots[0].imshow(kp_w_size,cmap='gray')\n",
    "plots[1].set_title(\"train without size\")\n",
    "plots[1].imshow(kp_wo_size,cmap='gray')"
   ]
  },
  {
   "cell_type": "code",
   "execution_count": 16,
   "id": "911e17fb",
   "metadata": {},
   "outputs": [],
   "source": [
    "#BRUTE FORCE MATCHER\n",
    "bfm=cv2.BFMatcher(cv2.NORM_L1,crossCheck=False)"
   ]
  },
  {
   "cell_type": "code",
   "execution_count": 17,
   "id": "d522a3bf",
   "metadata": {},
   "outputs": [],
   "source": [
    "#Matching \n",
    "match=bfm.match(train_des,test_des)"
   ]
  },
  {
   "cell_type": "code",
   "execution_count": 18,
   "id": "b13d3e84",
   "metadata": {},
   "outputs": [],
   "source": [
    "#Sorting\n",
    "match=sorted(match,key=lambda x:x.distance)"
   ]
  },
  {
   "cell_type": "code",
   "execution_count": 19,
   "id": "c30a928d",
   "metadata": {},
   "outputs": [],
   "source": [
    "#Drawing Matches\n",
    "result=cv2.drawMatches(rgb,train_kp,rot_gray,test_kp,match,rot_gray,flags=2)"
   ]
  },
  {
   "cell_type": "code",
   "execution_count": null,
   "id": "c796ce54",
   "metadata": {
    "scrolled": false
   },
   "outputs": [],
   "source": [
    "#Matching Displays\n",
    "py.rcParams['figure.figsize']=[14.0,7.0]\n",
    "py.title(\"Best matching points\")\n",
    "py.imshow(result)\n",
    "py.show()"
   ]
  }
 ],
 "metadata": {
  "kernelspec": {
   "display_name": "Python 3 (ipykernel)",
   "language": "python",
   "name": "python3"
  },
  "language_info": {
   "codemirror_mode": {
    "name": "ipython",
    "version": 3
   },
   "file_extension": ".py",
   "mimetype": "text/x-python",
   "name": "python",
   "nbconvert_exporter": "python",
   "pygments_lexer": "ipython3",
   "version": "3.9.16"
  }
 },
 "nbformat": 4,
 "nbformat_minor": 5
}
