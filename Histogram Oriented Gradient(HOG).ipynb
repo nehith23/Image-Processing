{
 "cells": [
  {
   "cell_type": "code",
   "execution_count": null,
   "id": "03c7c5d3",
   "metadata": {},
   "outputs": [],
   "source": [
    "pip install scikit-image\n",
    "import cv2\n",
    "import matplotlib.pyplot as plt\n",
    "%matplotlib inline\n",
    "from skimage.feature import hog\n",
    "from skimage import data,exposure"
   ]
  },
  {
   "cell_type": "code",
   "execution_count": 4,
   "id": "a5bd7bf2",
   "metadata": {},
   "outputs": [],
   "source": [
    "img2=cv2.imread(\"sample.jpg\")"
   ]
  },
  {
   "cell_type": "code",
   "execution_count": 5,
   "id": "c13fee37",
   "metadata": {},
   "outputs": [],
   "source": [
    "#hog\n",
    "fd,hog_image=hog(img2,pixels_per_cell=(6,6),cells_per_block=(2,2),visualize=True,channel_axis=2)"
   ]
  },
  {
   "cell_type": "code",
   "execution_count": 6,
   "id": "cb50ffa6",
   "metadata": {},
   "outputs": [],
   "source": [
    "#Rescale\n",
    "scale=exposure.rescale_intensity(hog_image,in_range=(0,10))"
   ]
  },
  {
   "cell_type": "code",
   "execution_count": null,
   "id": "0d3b126a",
   "metadata": {},
   "outputs": [],
   "source": [
    "figure,(a1,a2)=plt.subplots(1,2,figsize=(12,6),sharex=True,sharey=True)\n",
    "a1.axis('off')\n",
    "a1.imshow(img2)\n",
    "a1.set_title('input image')\n",
    "a2.axis('off')\n",
    "a2.imshow(scale)\n",
    "a2.set_title(\"hog_image\")\n",
    "plt.show()"
   ]
  },
  {
   "cell_type": "code",
   "execution_count": null,
   "id": "9e1e5d11",
   "metadata": {},
   "outputs": [],
   "source": [
    "cv2.imshow(\"original\",img2)\n",
    "cv2.imshow(\"hog\",scale)\n",
    "cv2.waitKey(0)"
   ]
  },
  {
   "cell_type": "code",
   "execution_count": 11,
   "id": "92d22eef",
   "metadata": {},
   "outputs": [],
   "source": [
    "import imutils\n",
    "import cv2"
   ]
  },
  {
   "cell_type": "code",
   "execution_count": 12,
   "id": "e1bf7bcf",
   "metadata": {},
   "outputs": [],
   "source": [
    "hog=cv2.HOGDescriptor()\n",
    "hog.setSVMDetector(cv2.HOGDescriptor_getDefaultPeopleDetector())\n",
    "img=cv2.imread(\"city.jpg\")\n",
    "#resize\n",
    "image=imutils.resize(img,width=min(400,img.shape[1]))\n",
    "#detecting all the regions in the image\n",
    "(regions,img)=hog.detectMultiScale(image,winStride=(2,2),\n",
    "                                          padding=(4,4),\n",
    "                                          scale=1.05)\n",
    "#drawing regions\n",
    "for(x,y,w,h)in regions:\n",
    "    cv2.rectangle(image,(x,y),\n",
    "            (x+w,y+h),\n",
    "            (255,0,0),2)\n",
    "cv2.imshow(\"image\",image)\n",
    "cv2.waitKey(0)\n",
    "cv2.destroyAllWindows()"
   ]
  }
 ],
 "metadata": {
  "kernelspec": {
   "display_name": "Python 3 (ipykernel)",
   "language": "python",
   "name": "python3"
  },
  "language_info": {
   "codemirror_mode": {
    "name": "ipython",
    "version": 3
   },
   "file_extension": ".py",
   "mimetype": "text/x-python",
   "name": "python",
   "nbconvert_exporter": "python",
   "pygments_lexer": "ipython3",
   "version": "3.9.16"
  }
 },
 "nbformat": 4,
 "nbformat_minor": 5
}
