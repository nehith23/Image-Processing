{
 "cells": [
  {
   "cell_type": "code",
   "execution_count": 11,
   "id": "82515dc4",
   "metadata": {},
   "outputs": [],
   "source": [
    "import cv2\n",
    "import numpy as np "
   ]
  },
  {
   "cell_type": "code",
   "execution_count": 12,
   "id": "49607980",
   "metadata": {},
   "outputs": [],
   "source": [
    "fd=cv2.CascadeClassifier(cv2.data.haarcascades+'haarcascade_frontalface_default.xml')\n",
    "ed=cv2.CascadeClassifier(cv2.data.haarcascades+'haarcascade_eye.xml')"
   ]
  },
  {
   "cell_type": "code",
   "execution_count": 28,
   "id": "18871c21",
   "metadata": {},
   "outputs": [],
   "source": [
    "img=cv2.imread(\"people.jpg\")\n",
    "gray=cv2.cvtColor(img,cv2.COLOR_BGR2GRAY)\n",
    "faces=fd.detectMultiScale(gray,scaleFactor=1.1,minNeighbors=1,minSize=(90,80))\n",
    "for(x,y,w,h) in faces:\n",
    "    cv2.rectangle(img,(x,y),(x+w,y+h),(0,255,0),2)\n",
    "eyes=ed.detectMultiScale(gray,scaleFactor=1.1,minNeighbors=1,minSize=(40,20))\n",
    "for(ex,ey,ew,eh) in eyes :\n",
    "    cv2.rectangle(img,(ex,ey),(ex+ew,ey+eh),(0,0,200),2)\n",
    "cv2.imshow(\"detected image\",img)\n",
    "cv2.waitKey(0)\n",
    "cv2.destroyAllWindows()"
   ]
  }
 ],
 "metadata": {
  "kernelspec": {
   "display_name": "Python 3 (ipykernel)",
   "language": "python",
   "name": "python3"
  },
  "language_info": {
   "codemirror_mode": {
    "name": "ipython",
    "version": 3
   },
   "file_extension": ".py",
   "mimetype": "text/x-python",
   "name": "python",
   "nbconvert_exporter": "python",
   "pygments_lexer": "ipython3",
   "version": "3.9.16"
  }
 },
 "nbformat": 4,
 "nbformat_minor": 5
}
