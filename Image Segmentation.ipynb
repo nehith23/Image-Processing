{
 "cells": [
  {
   "cell_type": "code",
   "execution_count": 1,
   "id": "85ec0810",
   "metadata": {},
   "outputs": [],
   "source": [
    "import cv2\n",
    "import numpy as np"
   ]
  },
  {
   "cell_type": "code",
   "execution_count": null,
   "id": "d0a1a69c",
   "metadata": {},
   "outputs": [],
   "source": [
    "img=cv2.imread(\"sample.jpg\")\n",
    "cv2.imshow(\"image\",img)\n",
    "cv2.waitKey(0)\n"
   ]
  },
  {
   "cell_type": "markdown",
   "id": "bd06e4e6",
   "metadata": {},
   "source": [
    "## RGB Conversion"
   ]
  },
  {
   "cell_type": "code",
   "execution_count": 3,
   "id": "63d16552",
   "metadata": {},
   "outputs": [],
   "source": [
    "imrgb=cv2.cvtColor(img,cv2.COLOR_BGR2RGB)"
   ]
  },
  {
   "cell_type": "code",
   "execution_count": 4,
   "id": "f63dab4f",
   "metadata": {},
   "outputs": [],
   "source": [
    "#Reshape \n",
    "vec=imrgb.reshape((-1,3))"
   ]
  },
  {
   "cell_type": "code",
   "execution_count": 5,
   "id": "2ea334f4",
   "metadata": {},
   "outputs": [],
   "source": [
    "#Float Conversion\n",
    "vec=np.float32(vec)"
   ]
  },
  {
   "cell_type": "code",
   "execution_count": 6,
   "id": "a9ff1405",
   "metadata": {},
   "outputs": [],
   "source": [
    "#Iteration Termination Criteria\n",
    "criteria=(cv2.TERM_CRITERIA_EPS+cv2.TERM_CRITERIA_MAX_ITER,100,1)"
   ]
  },
  {
   "cell_type": "code",
   "execution_count": 7,
   "id": "415a0ecb",
   "metadata": {},
   "outputs": [],
   "source": [
    "#Cluser Condition\n",
    "k=6\n",
    "attempts=50"
   ]
  },
  {
   "cell_type": "code",
   "execution_count": 8,
   "id": "046c23c6",
   "metadata": {},
   "outputs": [],
   "source": [
    "#K-Mean Clustering\n",
    "ret,label,center=cv2.kmeans(vec,k,None,criteria,attempts,cv2.KMEANS_PP_CENTERS)"
   ]
  },
  {
   "cell_type": "code",
   "execution_count": 9,
   "id": "73339a7b",
   "metadata": {},
   "outputs": [],
   "source": [
    "#Unit Conversion\n",
    "center=np.uint8(center)"
   ]
  },
  {
   "cell_type": "code",
   "execution_count": 10,
   "id": "ec6adf8a",
   "metadata": {},
   "outputs": [],
   "source": [
    "#flattering and reshape\n",
    "res=center[label.flatten()]\n",
    "res_img=res.reshape((imrgb.shape))"
   ]
  },
  {
   "cell_type": "code",
   "execution_count": 11,
   "id": "4f71edea",
   "metadata": {},
   "outputs": [],
   "source": [
    "#original and segmented image\n",
    "cv2.imshow('original',img)\n",
    "cv2.imshow('segmented',res_img)\n",
    "if cv2.waitKey(0)& 0xff==27:\n",
    "    cv2.destroyAllWindows()"
   ]
  }
 ],
 "metadata": {
  "kernelspec": {
   "display_name": "Python 3 (ipykernel)",
   "language": "python",
   "name": "python3"
  },
  "language_info": {
   "codemirror_mode": {
    "name": "ipython",
    "version": 3
   },
   "file_extension": ".py",
   "mimetype": "text/x-python",
   "name": "python",
   "nbconvert_exporter": "python",
   "pygments_lexer": "ipython3",
   "version": "3.9.16"
  }
 },
 "nbformat": 4,
 "nbformat_minor": 5
}
