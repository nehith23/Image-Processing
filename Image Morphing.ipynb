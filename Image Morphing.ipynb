{
 "cells": [
  {
   "cell_type": "code",
   "execution_count": 1,
   "id": "751bdb80",
   "metadata": {},
   "outputs": [],
   "source": [
    "import cv2"
   ]
  },
  {
   "cell_type": "code",
   "execution_count": 2,
   "id": "0a831bce",
   "metadata": {},
   "outputs": [],
   "source": [
    "import numpy as np"
   ]
  },
  {
   "cell_type": "code",
   "execution_count": 3,
   "id": "6b75dfca",
   "metadata": {},
   "outputs": [],
   "source": [
    "img=cv2.imread(\"sample.jpg\")"
   ]
  },
  {
   "cell_type": "code",
   "execution_count": 4,
   "id": "1da2345a",
   "metadata": {},
   "outputs": [],
   "source": [
    "kernel=np.ones((3,3),np.uint8)"
   ]
  },
  {
   "cell_type": "markdown",
   "id": "46a89391",
   "metadata": {},
   "source": [
    "## Erosion"
   ]
  },
  {
   "cell_type": "code",
   "execution_count": 5,
   "id": "53276311",
   "metadata": {},
   "outputs": [],
   "source": [
    "erosion=cv2.erode(img,kernel,iterations=7)"
   ]
  },
  {
   "cell_type": "code",
   "execution_count": null,
   "id": "72ea0744",
   "metadata": {},
   "outputs": [],
   "source": [
    "cv2.imshow(\"original\",img)\n",
    "cv2.waitKey(0)\n",
    "cv2.imshow(\"erosion\",erosion)\n",
    "cv2.waitKey(0)"
   ]
  },
  {
   "cell_type": "code",
   "execution_count": null,
   "id": "ce91520e",
   "metadata": {},
   "outputs": [],
   "source": [
    "cv2.imwrite('location',erosion)"
   ]
  },
  {
   "cell_type": "markdown",
   "id": "371218aa",
   "metadata": {},
   "source": [
    "## Dilation"
   ]
  },
  {
   "cell_type": "code",
   "execution_count": 8,
   "id": "f79ed437",
   "metadata": {},
   "outputs": [],
   "source": [
    "dilation=cv2.dilate(img,kernel,iterations=3)"
   ]
  },
  {
   "cell_type": "code",
   "execution_count": null,
   "id": "21d06f46",
   "metadata": {},
   "outputs": [],
   "source": [
    "cv2.imshow(\"original\",img)\n",
    "cv2.waitKey(0)\n",
    "cv2.imshow(\"dilation\",dilation)\n",
    "cv2.waitKey(0)"
   ]
  },
  {
   "cell_type": "code",
   "execution_count": null,
   "id": "539864cb",
   "metadata": {},
   "outputs": [],
   "source": [
    "cv2.imwrite('location',dilation)"
   ]
  },
  {
   "cell_type": "markdown",
   "id": "0897edb3",
   "metadata": {},
   "source": [
    "## Morphological Operation-Erosion Followed By Dilation"
   ]
  },
  {
   "cell_type": "code",
   "execution_count": 11,
   "id": "e7e66a75",
   "metadata": {},
   "outputs": [],
   "source": [
    "open=cv2.morphologyEx(img,cv2.MORPH_OPEN,kernel)"
   ]
  },
  {
   "cell_type": "code",
   "execution_count": 12,
   "id": "15ac0dd4",
   "metadata": {},
   "outputs": [],
   "source": [
    "close=cv2.morphologyEx(img,cv2.MORPH_CLOSE,kernel)"
   ]
  },
  {
   "cell_type": "code",
   "execution_count": null,
   "id": "f4d991d7",
   "metadata": {},
   "outputs": [],
   "source": [
    "cv2.imshow(\"original\",img)\n",
    "cv2.imshow(\"morph open\",open)\n",
    "cv2.imshow(\"morph close\",close)\n",
    "cv2.waitKey(0)"
   ]
  },
  {
   "cell_type": "code",
   "execution_count": null,
   "id": "7e8d1b72",
   "metadata": {},
   "outputs": [],
   "source": [
    "cv2.imwrite('location',open)\n",
    "cv2.imwrite('location',close)"
   ]
  },
  {
   "cell_type": "markdown",
   "id": "c3e8a770",
   "metadata": {},
   "source": [
    "## Morphology Gradient-Erosion,Dilation,Difference of both"
   ]
  },
  {
   "cell_type": "code",
   "execution_count": 15,
   "id": "8dd78a05",
   "metadata": {},
   "outputs": [],
   "source": [
    "gradient=cv2.morphologyEx(img,cv2.MORPH_GRADIENT,kernel)"
   ]
  },
  {
   "cell_type": "code",
   "execution_count": null,
   "id": "ec6d1696",
   "metadata": {},
   "outputs": [],
   "source": [
    "cv2.imshow(\"original\",img)\n",
    "cv2.imshow(\"morph gradient\",gradient)\n",
    "cv2.waitKey(0)"
   ]
  },
  {
   "cell_type": "code",
   "execution_count": null,
   "id": "03731355",
   "metadata": {},
   "outputs": [],
   "source": [
    "cv2.imwrite('location',gradient)"
   ]
  },
  {
   "cell_type": "markdown",
   "id": "f9e27da5",
   "metadata": {},
   "source": [
    "## Top Hat-Opening and Difference of original and opening"
   ]
  },
  {
   "cell_type": "code",
   "execution_count": 18,
   "id": "5ef91577",
   "metadata": {},
   "outputs": [],
   "source": [
    "tophat=cv2.morphologyEx(img,cv2.MORPH_TOPHAT,kernel)"
   ]
  },
  {
   "cell_type": "code",
   "execution_count": null,
   "id": "4316b018",
   "metadata": {},
   "outputs": [],
   "source": [
    "cv2.imshow(\"original\",img)\n",
    "cv2.imshow(\"top hat\",tophat)\n",
    "cv2.waitKey(0)"
   ]
  },
  {
   "cell_type": "code",
   "execution_count": null,
   "id": "8b50ecfc",
   "metadata": {
    "scrolled": true
   },
   "outputs": [],
   "source": [
    "cv2.imwrite('location',tophat)"
   ]
  },
  {
   "cell_type": "markdown",
   "id": "de7710e6",
   "metadata": {},
   "source": [
    "## Black Hat-Opposite of Top Hat"
   ]
  },
  {
   "cell_type": "code",
   "execution_count": 21,
   "id": "7d9798d8",
   "metadata": {},
   "outputs": [],
   "source": [
    "blackhat=cv2.morphologyEx(img,cv2.MORPH_BLACKHAT,kernel)"
   ]
  },
  {
   "cell_type": "code",
   "execution_count": null,
   "id": "f5364bcf",
   "metadata": {},
   "outputs": [],
   "source": [
    "cv2.imshow(\"original\",img)\n",
    "cv2.imshow(\"black hat\",blackhat)\n",
    "cv2.waitKey(0)"
   ]
  },
  {
   "cell_type": "code",
   "execution_count": null,
   "id": "65ada381",
   "metadata": {},
   "outputs": [],
   "source": [
    "cv2.imwrite('location',blackhat)"
   ]
  }
 ],
 "metadata": {
  "kernelspec": {
   "display_name": "Python 3 (ipykernel)",
   "language": "python",
   "name": "python3"
  },
  "language_info": {
   "codemirror_mode": {
    "name": "ipython",
    "version": 3
   },
   "file_extension": ".py",
   "mimetype": "text/x-python",
   "name": "python",
   "nbconvert_exporter": "python",
   "pygments_lexer": "ipython3",
   "version": "3.9.16"
  }
 },
 "nbformat": 4,
 "nbformat_minor": 5
}
